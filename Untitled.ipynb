{
 "cells": [
  {
   "cell_type": "code",
   "execution_count": 6,
   "id": "55312486",
   "metadata": {},
   "outputs": [],
   "source": [
    "def make_quesadilla(protein, topping=\"sour cream\"):\n",
    "    quesadilla = f\"Here is a {protein} quesadilla with {topping}\"\n",
    "    print(quesadilla)"
   ]
  },
  {
   "cell_type": "code",
   "execution_count": 5,
   "id": "fae22e7e",
   "metadata": {},
   "outputs": [
    {
     "name": "stdout",
     "output_type": "stream",
     "text": [
      "Here is a beef quesadilla with cheese\n"
     ]
    }
   ],
   "source": [
    "make_quesadilla(\"beef\", \"cheese\")"
   ]
  },
  {
   "cell_type": "code",
   "execution_count": 7,
   "id": "49a80503",
   "metadata": {},
   "outputs": [
    {
     "name": "stdout",
     "output_type": "stream",
     "text": [
      "Here is a beef quesadilla with sour cream\n"
     ]
    }
   ],
   "source": [
    "make_quesadilla(\"beef\")"
   ]
  },
  {
   "cell_type": "code",
   "execution_count": 8,
   "id": "ee58d4c4",
   "metadata": {},
   "outputs": [],
   "source": [
    "def square(number):\n",
    "    new_number = number * number\n",
    "    return new_number"
   ]
  },
  {
   "cell_type": "code",
   "execution_count": 9,
   "id": "4b5fe8eb",
   "metadata": {},
   "outputs": [],
   "source": [
    "squared = square(8)"
   ]
  },
  {
   "cell_type": "code",
   "execution_count": 10,
   "id": "04204a82",
   "metadata": {},
   "outputs": [
    {
     "data": {
      "text/plain": [
       "64"
      ]
     },
     "execution_count": 10,
     "metadata": {},
     "output_type": "execute_result"
    }
   ],
   "source": [
    "squared"
   ]
  },
  {
   "cell_type": "code",
   "execution_count": 11,
   "id": "5ecdc654",
   "metadata": {},
   "outputs": [
    {
     "ename": "SyntaxError",
     "evalue": "invalid syntax (<ipython-input-11-bc7292c98c0f>, line 2)",
     "output_type": "error",
     "traceback": [
      "\u001b[1;36m  File \u001b[1;32m\"<ipython-input-11-bc7292c98c0f>\"\u001b[1;36m, line \u001b[1;32m2\u001b[0m\n\u001b[1;33m    do something\u001b[0m\n\u001b[1;37m               ^\u001b[0m\n\u001b[1;31mSyntaxError\u001b[0m\u001b[1;31m:\u001b[0m invalid syntax\n"
     ]
    }
   ],
   "source": [
    "def something(array, number, string):\n",
    "    do something"
   ]
  },
  {
   "cell_type": "code",
   "execution_count": 12,
   "id": "710cbed9",
   "metadata": {},
   "outputs": [],
   "source": [
    "import os\n",
    "import csv"
   ]
  },
  {
   "cell_type": "code",
   "execution_count": null,
   "id": "e8c48e24",
   "metadata": {},
   "outputs": [],
   "source": [
    "wrestling_csv= os.path.join()"
   ]
  }
 ],
 "metadata": {
  "kernelspec": {
   "display_name": "PythonData",
   "language": "python",
   "name": "pythondata"
  },
  "language_info": {
   "codemirror_mode": {
    "name": "ipython",
    "version": 3
   },
   "file_extension": ".py",
   "mimetype": "text/x-python",
   "name": "python",
   "nbconvert_exporter": "python",
   "pygments_lexer": "ipython3",
   "version": "3.7.10"
  }
 },
 "nbformat": 4,
 "nbformat_minor": 5
}
